{
 "cells": [
  {
   "cell_type": "code",
   "execution_count": 82,
   "metadata": {},
   "outputs": [],
   "source": [
    "import math\n",
    "import numpy as np\n",
    "import random as rand\n",
    "def get_details_for_data():\n",
    "    print(\"Enter number of hidden layers\")\n",
    "    hd_layer_num=int(input())\n",
    "    print(\"Enter dimensions of x_data\")\n",
    "    x_dim=int(input())\n",
    "    return hd_layer_num,x_dim"
   ]
  },
  {
   "cell_type": "code",
   "execution_count": 83,
   "metadata": {},
   "outputs": [],
   "source": [
    "def get_hidden_layer_info(nohid):\n",
    "    hid_data=[]\n",
    "    for i in range(nohid):\n",
    "        print(\"Enter no of neurons in hidden layer \"+str(nohid+1))\n",
    "        hid_data.append(int(input()))\n",
    "    hid_data.append(1)\n",
    "    return hid_data\n",
    "        "
   ]
  },
  {
   "cell_type": "code",
   "execution_count": 84,
   "metadata": {},
   "outputs": [],
   "source": [
    "def get_data(x):     #function to read data from file\n",
    "    datafile=open(x,\"r\")\n",
    "    datalist=[]\n",
    "    for line in datafile:\n",
    "        z=line.split(\",\")\n",
    "        x=[float(i) for i in z]\n",
    "        datalist.append(x)\n",
    "    f=np.matrix(datalist)\n",
    "    return f"
   ]
  },
  {
   "cell_type": "code",
   "execution_count": 85,
   "metadata": {},
   "outputs": [],
   "source": [
    "def sigmoid(z):    #function to calculate sigmoid value\n",
    "    temp=1/(1+math.e**(z*-1))\n",
    "    return temp"
   ]
  },
  {
   "cell_type": "code",
   "execution_count": 112,
   "metadata": {},
   "outputs": [],
   "source": [
    "def initialize_weight_for_all_layers(dim_x,hidden):\n",
    "    weights=[]\n",
    "    temp_x_wt=[[[rand.uniform(-1,1)]for i in range(dim_x)] for i in range(hidden[0])]\n",
    "    weights.append(temp_x_wt)\n",
    "    for i in range(0,len(hidden)-1):\n",
    "        temp_wt=[]\n",
    "        for j in range(0,hidden[i+1]):\n",
    "            k_wt=[]\n",
    "            for g in range(0,hidden[i]):\n",
    "                k_wt.append([rand.uniform(-1,1)])\n",
    "            temp_wt.append(k_wt)\n",
    "        weights.append(temp_wt)\n",
    "    return weights\n",
    "            \n",
    "        "
   ]
  },
  {
   "cell_type": "code",
   "execution_count": 119,
   "metadata": {},
   "outputs": [],
   "source": [
    "def feed_forward(hidden,weights,x):\n",
    "    for i in range(0,len(weights)):\n",
    "        weight_session=weights[i]\n",
    "        fin=np.matrix(weights[i][0])\n",
    "        for j in range(1,len(weight_session)):\n",
    "            k=np.matrix(weight_session[j])\n",
    "            fin=np.column_stack([fin,k])\n",
    "        x=(np.matmul(np.transpose(fin),np.transpose(x)))\n",
    "        x=np.transpose(x)\n",
    "    return x\n",
    "        \n",
    "    \n",
    "    \n",
    "    "
   ]
  },
  {
   "cell_type": "code",
   "execution_count": 121,
   "metadata": {},
   "outputs": [
    {
     "name": "stdout",
     "output_type": "stream",
     "text": [
      "[[ 0.01027725]]\n"
     ]
    }
   ],
   "source": [
    "x=(get_data(\"x_data.txt\"))\n",
    "weights=(initialize_weight_for_all_layers(2,[2,3,1]))\n",
    "print(feed_forward([2,3,1],weights,x[0]))"
   ]
  },
  {
   "cell_type": "code",
   "execution_count": null,
   "metadata": {},
   "outputs": [],
   "source": []
  }
 ],
 "metadata": {
  "kernelspec": {
   "display_name": "Python 2",
   "language": "python",
   "name": "python2"
  },
  "language_info": {
   "codemirror_mode": {
    "name": "ipython",
    "version": 2
   },
   "file_extension": ".py",
   "mimetype": "text/x-python",
   "name": "python",
   "nbconvert_exporter": "python",
   "pygments_lexer": "ipython2",
   "version": "2.7.12+"
  }
 },
 "nbformat": 4,
 "nbformat_minor": 2
}
