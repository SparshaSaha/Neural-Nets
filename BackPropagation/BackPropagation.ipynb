{
 "cells": [
  {
   "cell_type": "code",
   "execution_count": 1,
   "metadata": {},
   "outputs": [],
   "source": [
    "import math\n",
    "import numpy as np\n",
    "import random as rand\n",
    "def get_details_for_data():\n",
    "    print(\"Enter number of hidden layers\")\n",
    "    hd_layer_num=int(input())\n",
    "    print(\"Enter dimensions of x_data\")\n",
    "    x_dim=int(input())\n",
    "    return hd_layer_num,x_dim"
   ]
  },
  {
   "cell_type": "code",
   "execution_count": 2,
   "metadata": {},
   "outputs": [],
   "source": [
    "def get_hidden_layer_info(nohid):\n",
    "    hid_data=[]\n",
    "    for i in range(nohid):\n",
    "        print(\"Enter no of neurons in hidden layer \"+str(nohid+1))\n",
    "        hid_data.append(int(input()))\n",
    "    hid_data.append(1)\n",
    "    return hid_data\n",
    "        "
   ]
  },
  {
   "cell_type": "code",
   "execution_count": 3,
   "metadata": {},
   "outputs": [],
   "source": [
    "def get_data(x):     #function to read data from file\n",
    "    datafile=open(x,\"r\")\n",
    "    datalist=[]\n",
    "    for line in datafile:\n",
    "        z=line.split(\",\")\n",
    "        x=[float(i) for i in z]\n",
    "        datalist.append(x)\n",
    "    f=np.matrix(datalist)\n",
    "    return f"
   ]
  },
  {
   "cell_type": "code",
   "execution_count": 4,
   "metadata": {},
   "outputs": [],
   "source": [
    "def sigmoid(z):    #function to calculate sigmoid value\n",
    "    temp=1/(1+math.e**(z*-1))\n",
    "    return temp"
   ]
  },
  {
   "cell_type": "code",
   "execution_count": 5,
   "metadata": {},
   "outputs": [],
   "source": [
    "def sig_dash(input):\n",
    "    return sigmoid(input)*(1-sigmoid(input))"
   ]
  },
  {
   "cell_type": "code",
   "execution_count": 6,
   "metadata": {},
   "outputs": [],
   "source": [
    "def initialize_weight_for_all_layers(dim_x,hidden):\n",
    "    weights=[]\n",
    "    temp_x_wt=[[[1]for i in range(dim_x)] for i in range(hidden[0])]\n",
    "    weights.append(temp_x_wt)\n",
    "    for i in range(0,len(hidden)-1):\n",
    "        temp_wt=[]\n",
    "        for j in range(0,hidden[i+1]):\n",
    "            k_wt=[]\n",
    "            for g in range(0,hidden[i]):\n",
    "                k_wt.append([1])\n",
    "            temp_wt.append(k_wt)\n",
    "        weights.append(temp_wt)\n",
    "    return weights\n",
    "            \n",
    "        "
   ]
  },
  {
   "cell_type": "code",
   "execution_count": 7,
   "metadata": {},
   "outputs": [],
   "source": [
    "def feed_forward(hidden,weights,x):\n",
    "    outputs=[]\n",
    "    inputs=[]\n",
    "    inputs.append(x.tolist())\n",
    "    for i in range(0,len(weights)):\n",
    "        weight_session=weights[i]\n",
    "        fin=np.matrix(weights[i][0])\n",
    "        for j in range(1,len(weight_session)):\n",
    "            k=np.matrix(weight_session[j])\n",
    "            fin=np.column_stack([fin,k])\n",
    "        \n",
    "        x=(np.matmul(np.transpose(fin),np.transpose(x)))\n",
    "        inputs.append(np.transpose(x).tolist())\n",
    "        \n",
    "        x=np.transpose(x)\n",
    "        x=x.tolist()\n",
    "        lis=[]\n",
    "        for f1 in x:\n",
    "            mattem=[]\n",
    "            for f2 in f1:\n",
    "                mattem.append(sigmoid(f2))\n",
    "            lis.append(mattem)\n",
    "        outputs.append(x)\n",
    "        x=np.matrix(x)\n",
    "    return x,outputs,inputs\n",
    "        \n",
    "    \n",
    "    \n",
    "    "
   ]
  },
  {
   "cell_type": "code",
   "execution_count": 8,
   "metadata": {},
   "outputs": [],
   "source": [
    "def delta_for_out_layer(weights,y,d,inputs):\n",
    "    deltalist=[]\n",
    "    weights=weights[len(weights)-1]\n",
    "    inputs=inputs[len(inputs)-1]\n",
    "    error=d-y\n",
    "    inputs=np.matrix(inputs)\n",
    "    inputs=inputs.sum(axis=0)\n",
    "    inputs=inputs.tolist()\n",
    "    inputs=[[sig_dash(i[0])]for i in inputs]\n",
    "    delta=np.dot(error,inputs)\n",
    "    deltalist.append(delta.tolist())\n",
    "    return deltalist"
   ]
  },
  {
   "cell_type": "code",
   "execution_count": 11,
   "metadata": {},
   "outputs": [],
   "source": [
    "def delta_for_hidden(weights,outputs,inputs,delta):\n",
    "    for i in range(len(weights)-2,-1,-1):\n",
    "        weight_session=weights[i]\n",
    "        fin=np.matrix(weights[i][0])\n",
    "        for j in range(1,len(weight_session)):\n",
    "            k=np.matrix(weight_session[j])\n",
    "            fin=np.column_stack([fin,k])\n",
    "        prev_delta=delta[0]\n",
    "        prev_wt=weights[i+1]\n",
    "        fin1=np.matrix(prev_wt[0])\n",
    "        for j in range(1,len(prev_wt)):\n",
    "            k=np.matrix(prev_wt[j])\n",
    "            fin1=np.column_stack([fin1,k])\n",
    "        #print(fin1)\n",
    "        \n",
    "        \n",
    "        print('\\n')\n",
    "        \n",
    "        \n",
    "        \n",
    "        \n",
    "    "
   ]
  },
  {
   "cell_type": "code",
   "execution_count": 12,
   "metadata": {},
   "outputs": [
    {
     "name": "stdout",
     "output_type": "stream",
     "text": [
      "[[[[1], [1], [1]], [[1], [1], [1]]], [[[1], [1]], [[1], [1]]], [[[1], [1]]]]\n",
      "\n",
      "\n",
      "[[[1.0, 0.08, 0.72]], [[1.8, 1.8]], [[3.6, 3.6]], [[7.2]]]\n",
      "\n",
      "\n",
      "\n",
      "\n"
     ]
    }
   ],
   "source": [
    "x=(get_data(\"x_data.txt\"))\n",
    "y=get_data(\"y_data.txt\")\n",
    "weights=(initialize_weight_for_all_layers(3,[2,2,1]))\n",
    "print(weights)\n",
    "print('\\n')\n",
    "\n",
    "f,outputs,inputs=(feed_forward([2,2,1],weights,x[0]))\n",
    "print(inputs)\n",
    "f=f.tolist()\n",
    "z=y[0]-f\n",
    "deltalist=delta_for_out_layer(weights,y[0],z,inputs)\n",
    "delta_for_hidden(weights,outputs,inputs,deltalist)"
   ]
  },
  {
   "cell_type": "code",
   "execution_count": null,
   "metadata": {},
   "outputs": [],
   "source": []
  },
  {
   "cell_type": "code",
   "execution_count": null,
   "metadata": {},
   "outputs": [],
   "source": []
  }
 ],
 "metadata": {
  "kernelspec": {
   "display_name": "Python 2",
   "language": "python",
   "name": "python2"
  },
  "language_info": {
   "codemirror_mode": {
    "name": "ipython",
    "version": 2
   },
   "file_extension": ".py",
   "mimetype": "text/x-python",
   "name": "python",
   "nbconvert_exporter": "python",
   "pygments_lexer": "ipython2",
   "version": "2.7.12+"
  }
 },
 "nbformat": 4,
 "nbformat_minor": 2
}
