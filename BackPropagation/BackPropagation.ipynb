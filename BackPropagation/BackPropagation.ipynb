{
 "cells": [
  {
   "cell_type": "code",
   "execution_count": 3,
   "metadata": {},
   "outputs": [],
   "source": [
    "import math\n",
    "import numpy as np\n",
    "import random as rand\n",
    "def get_details_for_data():\n",
    "    print(\"Enter number of hidden layers\")\n",
    "    hd_layer_num=int(input())\n",
    "    print(\"Enter dimensions of x_data\")\n",
    "    x_dim=int(input())\n",
    "    return hd_layer_num,x_dim"
   ]
  },
  {
   "cell_type": "code",
   "execution_count": 4,
   "metadata": {},
   "outputs": [],
   "source": [
    "def get_hidden_layer_info(nohid):\n",
    "    hid_data=[]\n",
    "    for i in range(nohid):\n",
    "        print(\"Enter no of neurons in hidden layer \"+str(nohid+1))\n",
    "        hid_data.append(int(input()))\n",
    "    hid_data.append(1)\n",
    "    return hid_data\n",
    "        "
   ]
  },
  {
   "cell_type": "code",
   "execution_count": 5,
   "metadata": {},
   "outputs": [],
   "source": [
    "def get_data(x):     #function to read data from file\n",
    "    datafile=open(x,\"r\")\n",
    "    datalist=[]\n",
    "    for line in datafile:\n",
    "        z=line.split(\",\")\n",
    "        x=[float(i) for i in z]\n",
    "        datalist.append(x)\n",
    "    f=np.matrix(datalist)\n",
    "    return f"
   ]
  },
  {
   "cell_type": "code",
   "execution_count": 6,
   "metadata": {},
   "outputs": [],
   "source": [
    "def sigmoid(z):    #function to calculate sigmoid value\n",
    "    temp=1/(1+math.e**(z*-1))\n",
    "    return temp"
   ]
  },
  {
   "cell_type": "code",
   "execution_count": 7,
   "metadata": {},
   "outputs": [],
   "source": [
    "def sig_dash(input):\n",
    "    return sigmoid(input)*(1-sigmoid(input))"
   ]
  },
  {
   "cell_type": "code",
   "execution_count": 15,
   "metadata": {},
   "outputs": [],
   "source": [
    "def initialize_weight_for_all_layers(dim_x,hidden):\n",
    "    weights=[]\n",
    "    temp_x_wt=[[[1]for i in range(dim_x)] for i in range(hidden[0])]\n",
    "    weights.append(temp_x_wt)\n",
    "    for i in range(0,len(hidden)-1):\n",
    "        temp_wt=[]\n",
    "        for j in range(0,hidden[i+1]):\n",
    "            k_wt=[]\n",
    "            for g in range(0,hidden[i]):\n",
    "                k_wt.append([1])\n",
    "            temp_wt.append(k_wt)\n",
    "        weights.append(temp_wt)\n",
    "    return weights\n",
    "            \n",
    "        "
   ]
  },
  {
   "cell_type": "code",
   "execution_count": 16,
   "metadata": {},
   "outputs": [],
   "source": [
    "def feed_forward(hidden,weights,x):\n",
    "    outputs=[]\n",
    "    inputs=[]\n",
    "    inputs.append(np.transpose(x).tolist())\n",
    "    for i in range(0,len(weights)):\n",
    "        weight_session=weights[i]\n",
    "        fin=np.matrix(weights[i][0])\n",
    "        for j in range(1,len(weight_session)):\n",
    "            k=np.matrix(weight_session[j])\n",
    "            fin=np.column_stack([fin,k])\n",
    "        \n",
    "        x=(np.matmul(np.transpose(fin),np.transpose(x)))\n",
    "        inputs.append(x.tolist())\n",
    "        \n",
    "        \n",
    "        \n",
    "        x=np.transpose(x)\n",
    "        x=x.tolist()\n",
    "        lis=[]\n",
    "        for f1 in x:\n",
    "            mattem=[]\n",
    "            for f2 in f1:\n",
    "                mattem.append(sigmoid(f2))\n",
    "            lis.append(mattem)\n",
    "        x=np.matrix(lis)\n",
    "        outputs.append(np.transpose(x).tolist())\n",
    "        \n",
    "    return x,outputs,inputs\n",
    "        \n",
    "    \n",
    "    \n",
    "    "
   ]
  },
  {
   "cell_type": "code",
   "execution_count": 17,
   "metadata": {},
   "outputs": [],
   "source": [
    "def delta_for_out_layer(weights,y,d,inputs):\n",
    "    deltalist=[]\n",
    "    weights=weights[len(weights)-1]\n",
    "    inputs=inputs[len(inputs)-1]\n",
    "    error=y-d\n",
    "    inputs=np.matrix(inputs)\n",
    "    inputs=inputs.sum(axis=0)\n",
    "    inputs=inputs.tolist()\n",
    "    inputs=[[sig_dash(i[0])]for i in inputs]\n",
    "    delta=np.dot(error,inputs)\n",
    "    deltalist.append(delta.tolist())\n",
    "    return deltalist"
   ]
  },
  {
   "cell_type": "code",
   "execution_count": 18,
   "metadata": {},
   "outputs": [],
   "source": [
    "def delta_for_hidden(weights,outputs,inputs,delta):\n",
    "    for i in range(len(weights)-2,-1,-1):\n",
    "        prev_delta=delta[0]\n",
    "        prev_wt=weights[i+1]\n",
    "        fin1=np.matrix(prev_wt[0])\n",
    "        for j in range(1,len(prev_wt)):\n",
    "            k=np.matrix(prev_wt[j])\n",
    "            fin1=np.column_stack([fin1,k])\n",
    "        \n",
    "\n",
    "        new_delta=np.matmul(fin1,prev_delta)\n",
    "        inp=[[sig_dash(d)for d in k]for k in inputs[i+1]]\n",
    "        inp=np.matrix(inp)\n",
    "        inp=inp.tolist()\n",
    "        #print(inp)\n",
    "        new_delta=new_delta.tolist()\n",
    "        #print(new_delta)\n",
    "        #print(\"\\n\")\n",
    "        new_delta=[[inp[j][0]*new_delta[j][0]]for j in range(0,len(inp))]\n",
    "        delta.insert(0,new_delta)\n",
    "    return delta"
   ]
  },
  {
   "cell_type": "code",
   "execution_count": 68,
   "metadata": {},
   "outputs": [],
   "source": [
    "def recalc_weights(weights,weightsn1,delta,inputs,alpha,eta,outputs):\n",
    "    weightsnp1=[]\n",
    "    for i in range(0,len(weights)):\n",
    "        weight_session=weights[i]\n",
    "        fin=np.matrix(weights[i][0])\n",
    "        for j in range(1,len(weight_session)):\n",
    "            k=np.matrix(weight_session[j])\n",
    "            fin=np.column_stack([fin,k])\n",
    "\n",
    "        \n",
    "        weight_sessionn1=weightsn1[i]\n",
    "        finn1=np.matrix(weightsn1[i][0])\n",
    "        for j in range(1,len(weight_sessionn1)):\n",
    "            kn1=np.matrix(weight_sessionn1[j])\n",
    "            finn1=np.column_stack([finn1,kn1])\n",
    "        \n",
    "        temp_yeta=eta*np.matrix(outputs[i])\n",
    "        temp_yeta=temp_yeta.tolist()\n",
    "        mylist=[]\n",
    "        finnp1=fin+alpha*finn1\n",
    "        finnp1=finnp1.transpose()\n",
    "        print(finnp1)\n",
    "        finnp1=finnp1.tolist()\n",
    "\n",
    "        delt=delta[i+1]\n",
    "        \n",
    "        templist=[]\n",
    "        for i in range(len(temp_yeta)):\n",
    "            templist.append([temp_yeta[i][0]*delt[i][0]])\n",
    "\n",
    "        rlist=[]\n",
    "        for i in range(0,len(finnp1)):\n",
    "            newlist=[]\n",
    "            for j in range(0,len(finnp1[i])):\n",
    "                newlist.append(finnp1[i][j]+templist[i][0])\n",
    "            rlist.append(newlist)\n",
    "        finnp1=np.matrix(finnp1)\n",
    "        rlist=np.matrix(rlist)\n",
    "        finnp1=finnp1+rlist\n",
    "        print(finnp1)\n",
    "        print(weights[i+1])\n",
    "        print(\"\\n\\n\")\n",
    "    return weights\n",
    "            \n",
    "            \n",
    "        \n",
    "\n",
    "        \n",
    "        \n",
    "        \n",
    "\n",
    "        \n",
    "        \n",
    "    "
   ]
  },
  {
   "cell_type": "code",
   "execution_count": 69,
   "metadata": {},
   "outputs": [
    {
     "name": "stdout",
     "output_type": "stream",
     "text": [
      "[[ 1.1  1.1  1.1]\n",
      " [ 1.1  1.1  1.1]]\n",
      "[[ 2.20022519  2.20022519  2.20022519]\n",
      " [ 2.20022519  2.20022519  2.20022519]]\n",
      "[[[1], [1]]]\n",
      "\n",
      "\n",
      "\n",
      "[[ 1.1  1.1]\n",
      " [ 1.1  1.1]]\n"
     ]
    },
    {
     "ename": "IndexError",
     "evalue": "list index out of range",
     "output_type": "error",
     "traceback": [
      "\u001b[0;31m---------------------------------------------------------------------------\u001b[0m",
      "\u001b[0;31mIndexError\u001b[0m                                Traceback (most recent call last)",
      "\u001b[0;32m<ipython-input-69-68ec05df7420>\u001b[0m in \u001b[0;36m<module>\u001b[0;34m()\u001b[0m\n\u001b[1;32m      8\u001b[0m     \u001b[0mdeltalist\u001b[0m\u001b[0;34m=\u001b[0m\u001b[0mdelta_for_out_layer\u001b[0m\u001b[0;34m(\u001b[0m\u001b[0mweights\u001b[0m\u001b[0;34m,\u001b[0m\u001b[0my\u001b[0m\u001b[0;34m[\u001b[0m\u001b[0mi\u001b[0m\u001b[0;34m]\u001b[0m\u001b[0;34m,\u001b[0m\u001b[0mz\u001b[0m\u001b[0;34m,\u001b[0m\u001b[0minputs\u001b[0m\u001b[0;34m)\u001b[0m\u001b[0;34m\u001b[0m\u001b[0m\n\u001b[1;32m      9\u001b[0m     \u001b[0mdelta\u001b[0m\u001b[0;34m=\u001b[0m\u001b[0mdelta_for_hidden\u001b[0m\u001b[0;34m(\u001b[0m\u001b[0mweights\u001b[0m\u001b[0;34m,\u001b[0m\u001b[0moutputs\u001b[0m\u001b[0;34m,\u001b[0m\u001b[0minputs\u001b[0m\u001b[0;34m,\u001b[0m\u001b[0mdeltalist\u001b[0m\u001b[0;34m)\u001b[0m\u001b[0;34m\u001b[0m\u001b[0m\n\u001b[0;32m---> 10\u001b[0;31m     \u001b[0mweights\u001b[0m\u001b[0;34m=\u001b[0m\u001b[0mrecalc_weights\u001b[0m\u001b[0;34m(\u001b[0m\u001b[0mweights\u001b[0m\u001b[0;34m,\u001b[0m\u001b[0mweights\u001b[0m\u001b[0;34m,\u001b[0m\u001b[0mdelta\u001b[0m\u001b[0;34m,\u001b[0m\u001b[0minputs\u001b[0m\u001b[0;34m,\u001b[0m\u001b[0;36m0.1\u001b[0m\u001b[0;34m,\u001b[0m\u001b[0;36m0.1\u001b[0m\u001b[0;34m,\u001b[0m\u001b[0moutputs\u001b[0m\u001b[0;34m)\u001b[0m\u001b[0;34m\u001b[0m\u001b[0m\n\u001b[0m\u001b[1;32m     11\u001b[0m     \u001b[0;32mprint\u001b[0m\u001b[0;34m(\u001b[0m\u001b[0;34m\"\\n\\n\\n\"\u001b[0m\u001b[0;34m)\u001b[0m\u001b[0;34m\u001b[0m\u001b[0m\n\u001b[1;32m     12\u001b[0m     \u001b[0;32mprint\u001b[0m\u001b[0;34m(\u001b[0m\u001b[0;34m\"weights:\"\u001b[0m \u001b[0;34m+\u001b[0m\u001b[0mstr\u001b[0m\u001b[0;34m(\u001b[0m\u001b[0mweights\u001b[0m\u001b[0;34m)\u001b[0m\u001b[0;34m)\u001b[0m\u001b[0;34m\u001b[0m\u001b[0m\n",
      "\u001b[0;32m<ipython-input-68-973930a1a8ec>\u001b[0m in \u001b[0;36mrecalc_weights\u001b[0;34m(weights, weightsn1, delta, inputs, alpha, eta, outputs)\u001b[0m\n\u001b[1;32m     27\u001b[0m         \u001b[0mtemplist\u001b[0m\u001b[0;34m=\u001b[0m\u001b[0;34m[\u001b[0m\u001b[0;34m]\u001b[0m\u001b[0;34m\u001b[0m\u001b[0m\n\u001b[1;32m     28\u001b[0m         \u001b[0;32mfor\u001b[0m \u001b[0mi\u001b[0m \u001b[0;32min\u001b[0m \u001b[0mrange\u001b[0m\u001b[0;34m(\u001b[0m\u001b[0mlen\u001b[0m\u001b[0;34m(\u001b[0m\u001b[0mtemp_yeta\u001b[0m\u001b[0;34m)\u001b[0m\u001b[0;34m)\u001b[0m\u001b[0;34m:\u001b[0m\u001b[0;34m\u001b[0m\u001b[0m\n\u001b[0;32m---> 29\u001b[0;31m             \u001b[0mtemplist\u001b[0m\u001b[0;34m.\u001b[0m\u001b[0mappend\u001b[0m\u001b[0;34m(\u001b[0m\u001b[0;34m[\u001b[0m\u001b[0mtemp_yeta\u001b[0m\u001b[0;34m[\u001b[0m\u001b[0mi\u001b[0m\u001b[0;34m]\u001b[0m\u001b[0;34m[\u001b[0m\u001b[0;36m0\u001b[0m\u001b[0;34m]\u001b[0m\u001b[0;34m*\u001b[0m\u001b[0mdelt\u001b[0m\u001b[0;34m[\u001b[0m\u001b[0mi\u001b[0m\u001b[0;34m]\u001b[0m\u001b[0;34m[\u001b[0m\u001b[0;36m0\u001b[0m\u001b[0;34m]\u001b[0m\u001b[0;34m]\u001b[0m\u001b[0;34m)\u001b[0m\u001b[0;34m\u001b[0m\u001b[0m\n\u001b[0m\u001b[1;32m     30\u001b[0m \u001b[0;34m\u001b[0m\u001b[0m\n\u001b[1;32m     31\u001b[0m         \u001b[0mrlist\u001b[0m\u001b[0;34m=\u001b[0m\u001b[0;34m[\u001b[0m\u001b[0;34m]\u001b[0m\u001b[0;34m\u001b[0m\u001b[0m\n",
      "\u001b[0;31mIndexError\u001b[0m: list index out of range"
     ]
    }
   ],
   "source": [
    "x=(get_data(\"x_data.txt\"))\n",
    "y=get_data(\"y_data.txt\")\n",
    "weights=(initialize_weight_for_all_layers(3,[2,2,1]))\n",
    "for i in range(0,1):\n",
    "    f,outputs,inputs=(feed_forward([2,2,1],weights,x[i]))\n",
    "    f=f.tolist()\n",
    "    z=f\n",
    "    deltalist=delta_for_out_layer(weights,y[i],z,inputs)\n",
    "    delta=delta_for_hidden(weights,outputs,inputs,deltalist)\n",
    "    weights=recalc_weights(weights,weights,delta,inputs,0.1,0.1,outputs)\n",
    "    print(\"\\n\\n\\n\")\n",
    "    print(\"weights:\" +str(weights))\n",
    "\n"
   ]
  },
  {
   "cell_type": "code",
   "execution_count": null,
   "metadata": {},
   "outputs": [],
   "source": []
  },
  {
   "cell_type": "code",
   "execution_count": null,
   "metadata": {},
   "outputs": [],
   "source": []
  },
  {
   "cell_type": "code",
   "execution_count": null,
   "metadata": {},
   "outputs": [],
   "source": []
  },
  {
   "cell_type": "code",
   "execution_count": null,
   "metadata": {},
   "outputs": [],
   "source": []
  }
 ],
 "metadata": {
  "kernelspec": {
   "display_name": "Python 2",
   "language": "python",
   "name": "python2"
  },
  "language_info": {
   "codemirror_mode": {
    "name": "ipython",
    "version": 2
   },
   "file_extension": ".py",
   "mimetype": "text/x-python",
   "name": "python",
   "nbconvert_exporter": "python",
   "pygments_lexer": "ipython2",
   "version": "2.7.12+"
  }
 },
 "nbformat": 4,
 "nbformat_minor": 2
}
