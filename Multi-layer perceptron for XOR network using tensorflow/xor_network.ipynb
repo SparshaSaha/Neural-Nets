{
 "cells": [
  {
   "cell_type": "code",
   "execution_count": 2,
   "metadata": {},
   "outputs": [],
   "source": [
    "import tensorflow as tf\n",
    "\n",
    "#define the network\n",
    "nodes_input=2\n",
    "nodes_hidden_1=2\n",
    "nodes_output=1\n",
    "\n",
    "batch_size=1;\n",
    "\n",
    "x=tf.placeholder('float',[None,2])\n",
    "y=tf.placeholder('float')"
   ]
  },
  {
   "cell_type": "code",
   "execution_count": 3,
   "metadata": {},
   "outputs": [],
   "source": [
    "def xor_nn(data):\n",
    "    \n",
    "    #Define weights for neural network\n",
    "    hidden_l1={'weights':tf.Variable(tf.random_normal(nodes_input,nodes_hidden_1)),'biases':tf.Variable(tf.random_normal([nodes_hidden_1]))}\n",
    "    \n",
    "    output_layer={'weights':tf.Variable(tf.random_normal(nodes_hidden_1,nodes_output)),'biases':tf.Variable(tf.random_normal([nodes_output]))}\n",
    "    \n",
    "    #feed forward throught the network\n",
    "    l1=tf.add(tf.matmul(data,hidden_l1['weights']),hidden_l1['biases'])\n",
    "    l1=tf.nn.relu(l1)\n",
    "    \n",
    "    output=tf.add(tf.matmul(l1,output_layer['weights']),output_layer['biases'])\n",
    "    \n",
    "    output=tf.nn.relu(output)\n",
    "    \n",
    "    return output"
   ]
  },
  {
   "cell_type": "code",
   "execution_count": null,
   "metadata": {},
   "outputs": [],
   "source": []
  }
 ],
 "metadata": {
  "kernelspec": {
   "display_name": "Python 2",
   "language": "python",
   "name": "python2"
  },
  "language_info": {
   "codemirror_mode": {
    "name": "ipython",
    "version": 2
   },
   "file_extension": ".py",
   "mimetype": "text/x-python",
   "name": "python",
   "nbconvert_exporter": "python",
   "pygments_lexer": "ipython2",
   "version": "2.7.12+"
  }
 },
 "nbformat": 4,
 "nbformat_minor": 2
}
